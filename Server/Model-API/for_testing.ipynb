{
 "cells": [
  {
   "cell_type": "code",
   "execution_count": 2,
   "metadata": {},
   "outputs": [],
   "source": [
    "import numpy as np\n",
    "from os import PathLike\n",
    "from pathlib import Path\n",
    "import numpy as np\n",
    "import moviepy.editor as mp\n",
    "\n",
    "import cv2\n",
    "import numpy as np\n",
    "import torch\n",
    "from PIL import Image\n",
    "from numpy import linalg\n",
    "from torch import nn\n",
    "from torchvision import transforms, models\n",
    "from helpers.kts import cpd_auto"
   ]
  },
  {
   "cell_type": "code",
   "execution_count": 31,
   "metadata": {},
   "outputs": [],
   "source": [
    "change_points_array = []\n",
    "pred_scores_array = []\n",
    "summary_array = []\n",
    "nfps_array = []"
   ]
  },
  {
   "cell_type": "code",
   "execution_count": 40,
   "metadata": {},
   "outputs": [],
   "source": [
    "def custom_cps(specified_number, offset):\n",
    "    change_points = []\n",
    "    nfps = []\n",
    "    start = 0\n",
    "    while start < specified_number:\n",
    "        if(start + offset > specified_number):\n",
    "            end = specified_number\n",
    "        else:\n",
    "            end = start + offset\n",
    "        change_points.append([start, end])\n",
    "        start = end + 1\n",
    "    for segment in change_points:\n",
    "        nfps.append(segment[1] - segment[0] + 1)\n",
    "    return np.array(change_points,dtype=np.int32), np.array(nfps,dtype=np.int32)"
   ]
  },
  {
   "cell_type": "code",
   "execution_count": 35,
   "metadata": {},
   "outputs": [],
   "source": [
    "\n",
    "\n",
    "class FeatureExtractor(object):\n",
    "    def __init__(self):\n",
    "        self.preprocess = transforms.Compose([\n",
    "            transforms.Resize(256),\n",
    "            transforms.CenterCrop(224),\n",
    "            transforms.ToTensor(),\n",
    "            transforms.Normalize(mean=[0.485, 0.456, 0.406], std=[0.229, 0.224, 0.225]),\n",
    "        ])\n",
    "        self.model = models.googlenet(weights = 'DEFAULT')\n",
    "        self.model = nn.Sequential(*list(self.model.children())[:-2])\n",
    "        self.model = self.model.cuda().eval()\n",
    "\n",
    "    def run(self, img: np.ndarray) -> np.ndarray:\n",
    "        img = Image.fromarray(img)\n",
    "        img = self.preprocess(img)\n",
    "        batch = img.unsqueeze(0)\n",
    "        with torch.no_grad():\n",
    "            feat = self.model(batch.cuda())\n",
    "            feat = feat.squeeze().cpu().numpy()\n",
    "\n",
    "        assert feat.shape == (1024,), f'Invalid feature shape {feat.shape}: expected 1024'\n",
    "        #normalize frame features\n",
    "        #no norm\n",
    "        feat /= linalg.norm(feat) + 1e-10\n",
    "        return feat\n",
    "\n",
    "\n",
    "class VideoPreprocessor(object):\n",
    "    def __init__(self, sample_rate: int) -> None:\n",
    "        self.model = FeatureExtractor()\n",
    "        self.sample_rate = sample_rate\n",
    "\n",
    "    def get_features(self, video_path: PathLike):\n",
    "        video_path = Path(video_path)\n",
    "        cap = cv2.VideoCapture(str(video_path))\n",
    "        assert cap is not None, f'Cannot open video: {video_path}'\n",
    "\n",
    "        features = []\n",
    "        n_frames = 0\n",
    "\n",
    "        while True:\n",
    "            ret, frame = cap.read()\n",
    "            if not ret:\n",
    "                break\n",
    "\n",
    "            if n_frames % self.sample_rate == 0:\n",
    "                frame = cv2.cvtColor(frame, cv2.COLOR_BGR2RGB)\n",
    "                feat = self.model.run(frame)\n",
    "                features.append(feat)\n",
    "\n",
    "            n_frames += 1\n",
    "\n",
    "        cap.release()\n",
    "\n",
    "        features = np.array(features)\n",
    "        return n_frames, features\n",
    "\n",
    "    def kts(self, n_frames, features):\n",
    "        seq_len = len(features)\n",
    "        picks = np.arange(0, seq_len) * self.sample_rate\n",
    "        kernel = np.matmul(features, features.T)\n",
    "        change_points, _ = cpd_auto(kernel, seq_len - 1, 1, verbose=False)\n",
    "        change_points *= self.sample_rate\n",
    "        change_points = np.hstack((0, change_points, n_frames))\n",
    "        begin_frames = change_points[:-1]\n",
    "        end_frames = change_points[1:]\n",
    "        change_points = np.vstack((begin_frames, end_frames - 1)).T\n",
    "        n_frame_per_seg = end_frames - begin_frames\n",
    "        return change_points, n_frame_per_seg, picks\n",
    "\n",
    "    def run(self, video_path: PathLike):\n",
    "        n_frames, features = self.get_features(video_path)\n",
    "        cps, nfps, picks = self.kts(n_frames, features)\n",
    "        return n_frames, features, cps, nfps, picks"
   ]
  },
  {
   "cell_type": "code",
   "execution_count": 41,
   "metadata": {},
   "outputs": [],
   "source": [
    "import os\n",
    "import cv2\n",
    "import torch\n",
    "import numpy as np\n",
    "from savedModel.model import VideoSummarizerNetwork\n",
    "from helpers.VideoProccessor import VideoPreprocessor, write_video_summary ,combine_video_audio\n",
    "from helpers.AudioProccessor import write_audio_summary\n",
    "from helpers.vsum_helper import get_keyshot_summ\n",
    "import json\n",
    "\n",
    "\n",
    "num_feature = 1024\n",
    "num_hidden = 128\n",
    "num_head = 8\n",
    "device = \"cuda\"\n",
    "learning_rate = 5e-5\n",
    "weight_decay = 1e-5\n",
    "num_epoch = 300\n",
    "\n",
    "\n",
    "\n",
    "def summarizeVideo(video_path, video_name,model_path):\n",
    "\n",
    "    video_name = os.path.splitext(video_name)[0]\n",
    "\n",
    "    print('Loading model ...')\n",
    "    model = VideoSummarizerNetwork(num_feature=num_feature, num_hidden=num_hidden, num_head=num_head)\n",
    "    model = model.eval().to(\"cpu\")\n",
    "    state_dict = torch.load(model_path,map_location=lambda storage, loc: storage)\n",
    "    model.load_state_dict(state_dict)\n",
    "\n",
    "    print('Preprocessing video ...')\n",
    "    video_proc = VideoPreprocessor(15)\n",
    "    n_frames, seq, cps, nfps, picks = video_proc.run(video_path)\n",
    "\n",
    "    nfps_array = nfps\n",
    "\n",
    "    n_s,_ = cps.shape\n",
    "    if n_s < 3:\n",
    "        print('Too few segments, using custom segments ...')\n",
    "        cps,nfps  = custom_cps(n_frames, 300)\n",
    "\n",
    "\n",
    "    change_points_array = cps\n",
    "\n",
    "\n",
    "    print('Predicting summary ...')\n",
    "    with torch.no_grad():\n",
    "        seq_torch = torch.from_numpy(seq).unsqueeze(0).to(\"cpu\")\n",
    "\n",
    "        pred_cls = model.predict(seq_torch)\n",
    "\n",
    "        pred_summ = get_keyshot_summ(pred_cls, cps, n_frames, nfps, picks)\n",
    "\n",
    "    pred_scores_array = pred_cls\n",
    "    summary_array = pred_summ\n",
    "\n",
    "    return change_points_array, pred_scores_array, summary_array,nfps_array\n"
   ]
  },
  {
   "cell_type": "code",
   "execution_count": 10,
   "metadata": {},
   "outputs": [
    {
     "name": "stdout",
     "output_type": "stream",
     "text": [
      "6821.0\n"
     ]
    }
   ],
   "source": [
    "import cv2\n",
    "\n",
    "# Open the video file\n",
    "video_capture = cv2.VideoCapture('d.mp4')  #Change 'your_video_file.mp4' to your video file path\n",
    "# Get the frame rate\n",
    "frame_rate = video_capture.get(cv2.CAP_PROP_FRAME_COUNT)\n",
    "print(frame_rate)\n",
    "\n"
   ]
  },
  {
   "cell_type": "code",
   "execution_count": 9,
   "metadata": {},
   "outputs": [
    {
     "data": {
      "text/plain": [
       "91"
      ]
     },
     "execution_count": 9,
     "metadata": {},
     "output_type": "execute_result"
    }
   ],
   "source": [
    "6912-6821"
   ]
  },
  {
   "cell_type": "code",
   "execution_count": 42,
   "metadata": {},
   "outputs": [
    {
     "name": "stdout",
     "output_type": "stream",
     "text": [
      "Loading model ...\n",
      "Preprocessing video ...\n",
      "Predicting summary ...\n"
     ]
    }
   ],
   "source": [
    "cps,pa,sa,nfpss = summarizeVideo(\"1711145751683.mp4\", \"1711145751683.mp4\",\"savedModel/Attention-last0.pt\")"
   ]
  },
  {
   "cell_type": "code",
   "execution_count": 39,
   "metadata": {},
   "outputs": [
    {
     "name": "stdout",
     "output_type": "stream",
     "text": [
      "[[   0 5069]\n",
      " [5070 6820]]\n",
      "[5070 1751]\n",
      "5069\n",
      "1750\n"
     ]
    }
   ],
   "source": [
    "print(cps)\n",
    "print(nfpss)\n",
    "\n",
    "print(5069 - 0)\n",
    "print(6820 - 5070)"
   ]
  },
  {
   "cell_type": "code",
   "execution_count": 28,
   "metadata": {},
   "outputs": [
    {
     "name": "stdout",
     "output_type": "stream",
     "text": [
      "[[   0  200]\n",
      " [ 201  401]\n",
      " [ 402  602]\n",
      " [ 603  803]\n",
      " [ 804 1004]\n",
      " [1005 1205]\n",
      " [1206 1406]\n",
      " [1407 1607]\n",
      " [1608 1808]\n",
      " [1809 2009]\n",
      " [2010 2210]\n",
      " [2211 2411]\n",
      " [2412 2612]\n",
      " [2613 2813]\n",
      " [2814 3014]\n",
      " [3015 3215]\n",
      " [3216 3416]\n",
      " [3417 3617]\n",
      " [3618 3818]\n",
      " [3819 4019]\n",
      " [4020 4220]\n",
      " [4221 4421]\n",
      " [4422 4622]\n",
      " [4623 4823]\n",
      " [4824 5024]\n",
      " [5025 5225]\n",
      " [5226 5426]\n",
      " [5427 5627]\n",
      " [5628 5828]\n",
      " [5829 6029]\n",
      " [6030 6230]\n",
      " [6231 6431]\n",
      " [6432 6632]\n",
      " [6633 6821]]\n",
      "Frames in segment: 201\n",
      "Frames in segment: 201\n",
      "Frames in segment: 201\n",
      "Frames in segment: 201\n",
      "Frames in segment: 201\n",
      "Frames in segment: 201\n",
      "Frames in segment: 201\n",
      "Frames in segment: 201\n",
      "Frames in segment: 201\n",
      "Frames in segment: 201\n",
      "Frames in segment: 201\n",
      "Frames in segment: 201\n",
      "Frames in segment: 201\n",
      "Frames in segment: 201\n",
      "Frames in segment: 201\n",
      "Frames in segment: 201\n",
      "Frames in segment: 201\n",
      "Frames in segment: 201\n",
      "Frames in segment: 201\n",
      "Frames in segment: 201\n",
      "Frames in segment: 201\n",
      "Frames in segment: 201\n",
      "Frames in segment: 201\n",
      "Frames in segment: 201\n",
      "Frames in segment: 201\n",
      "Frames in segment: 201\n",
      "Frames in segment: 201\n",
      "Frames in segment: 201\n",
      "Frames in segment: 201\n",
      "Frames in segment: 201\n",
      "Frames in segment: 201\n",
      "Frames in segment: 201\n",
      "Frames in segment: 201\n",
      "Frames in segment: 189\n"
     ]
    }
   ],
   "source": [
    "print(cps)\n",
    "\n",
    "\n",
    "# begin_frames = cps[:-1]\n",
    "# end_frames = cps[1:]\n",
    "# print(begin_frames)\n",
    "\n",
    "\n",
    "# change_points = np.vstack((begin_frames, end_frames - 1)).T\n",
    "# n_frame_per_seg = end_frames - begin_frames\n"
   ]
  },
  {
   "cell_type": "code",
   "execution_count": 43,
   "metadata": {},
   "outputs": [
    {
     "data": {
      "text/plain": [
       "array([0.30500528, 0.33886302, 0.28712022, 0.29726562, 0.29576206,\n",
       "       0.30101356, 0.29516575, 0.2980608 , 0.31766668, 0.30273458,\n",
       "       0.31049982, 0.30634764, 0.29051906, 0.27509257, 0.2951989 ,\n",
       "       0.28734463, 0.27097696, 0.28360862, 0.2821782 , 0.2903138 ,\n",
       "       0.25372502, 0.2695761 , 0.27984187, 0.26318082, 0.2806511 ,\n",
       "       0.28964907, 0.2867403 , 0.28963524, 0.3101076 , 0.3079169 ,\n",
       "       0.32278025, 0.31627235, 0.3204316 , 0.31884256, 0.33597597,\n",
       "       0.31748143, 0.30839384, 0.31107548, 0.31565133, 0.30398175,\n",
       "       0.30065942, 0.30241168, 0.3056145 , 0.3185662 , 0.27919495,\n",
       "       0.3114668 , 0.2998692 , 0.27796772, 0.27495795, 0.2956488 ,\n",
       "       0.3056896 , 0.30629322, 0.29992378, 0.3052786 , 0.30581045,\n",
       "       0.31392884, 0.2982837 , 0.27985713, 0.28430185, 0.28237334,\n",
       "       0.30674222, 0.30898798, 0.29863802, 0.27936396, 0.29128358,\n",
       "       0.29488873, 0.30483067, 0.29143244, 0.30010775, 0.30052185,\n",
       "       0.31739408, 0.3106485 , 0.32536873, 0.28482687, 0.31410536,\n",
       "       0.30604175, 0.3070586 , 0.29432914, 0.30025846, 0.30127448,\n",
       "       0.29982552, 0.31414732, 0.30124533, 0.29877666, 0.30685294,\n",
       "       0.28043264, 0.29136422, 0.29303637, 0.31489435, 0.32080132,\n",
       "       0.3464243 , 0.29677486, 0.35390595, 0.3336038 , 0.30870467,\n",
       "       0.29286587, 0.31804484, 0.3260484 , 0.32389054, 0.33902478,\n",
       "       0.32148096, 0.3460802 , 0.34839377, 0.34270683, 0.32345012,\n",
       "       0.33173954, 0.3377125 , 0.31120166, 0.29344177, 0.33302605,\n",
       "       0.34236175, 0.33847436, 0.32908905, 0.32077646, 0.33980507,\n",
       "       0.3461156 , 0.32707855, 0.3492808 , 0.33059558, 0.32624188,\n",
       "       0.30858096, 0.33382693, 0.31876177, 0.31355992, 0.31205586,\n",
       "       0.33251238, 0.35165614, 0.3088405 , 0.34507298, 0.31967527,\n",
       "       0.32137546, 0.31853873, 0.34792793, 0.33916113, 0.32740244,\n",
       "       0.3361108 , 0.33597276, 0.32182202, 0.30885446, 0.3019931 ,\n",
       "       0.30377048, 0.29516947, 0.31020367, 0.30853498, 0.2961698 ,\n",
       "       0.30885303, 0.29878622, 0.31029555, 0.30776596, 0.3265032 ,\n",
       "       0.29082644, 0.28414643, 0.27404922, 0.30736294, 0.32035565,\n",
       "       0.32866466, 0.31506416, 0.32406956, 0.29054242, 0.3024329 ,\n",
       "       0.32208532, 0.33184114, 0.30580866, 0.29654953, 0.30428177,\n",
       "       0.31823584, 0.29863116, 0.31408828, 0.3136238 , 0.2842294 ,\n",
       "       0.29246476, 0.30000862, 0.30727217, 0.29962322, 0.29483527,\n",
       "       0.32155636, 0.28209087, 0.29446507, 0.3132221 , 0.34536803,\n",
       "       0.30513632, 0.29809985, 0.28832072, 0.2924828 , 0.2925289 ,\n",
       "       0.2916447 , 0.29199073, 0.286717  , 0.27509153, 0.29924378,\n",
       "       0.29165483, 0.28248426, 0.28970435, 0.30888897, 0.30178732,\n",
       "       0.28332093, 0.31960553, 0.28701678, 0.32752994, 0.31976172,\n",
       "       0.31246492, 0.30579153, 0.29951173, 0.34400114, 0.33578506,\n",
       "       0.32484645, 0.33142322, 0.33494267, 0.31091493, 0.29947624,\n",
       "       0.3057577 , 0.34530824, 0.32303753, 0.32989568, 0.3324862 ,\n",
       "       0.34532392, 0.3123202 , 0.32132336, 0.31901538, 0.3156703 ,\n",
       "       0.30652452, 0.31881443, 0.31406975, 0.30082715, 0.3242986 ,\n",
       "       0.3226194 , 0.2964683 , 0.3122167 , 0.30119583, 0.3022801 ,\n",
       "       0.32798058, 0.32222974, 0.30611622, 0.3129468 , 0.30332205,\n",
       "       0.28495288, 0.30101046, 0.33632034, 0.3252539 , 0.32886672,\n",
       "       0.3200397 , 0.31451154, 0.3053172 , 0.3013169 , 0.30612472,\n",
       "       0.30131996, 0.31737086, 0.31204695, 0.31662345, 0.29931524,\n",
       "       0.2892702 , 0.28560475, 0.29775274, 0.31162578, 0.30823365,\n",
       "       0.29795808, 0.33446681, 0.3316924 , 0.32311875, 0.33119226,\n",
       "       0.3103515 , 0.3181847 , 0.2918968 , 0.27889472, 0.28226054,\n",
       "       0.27674413, 0.294187  , 0.31665334, 0.31712255, 0.32949683,\n",
       "       0.33434412, 0.33401227, 0.2835534 , 0.3121295 , 0.30899587,\n",
       "       0.30285618, 0.3003869 , 0.32519323, 0.31601685, 0.31868878,\n",
       "       0.29915658, 0.28531995, 0.3287581 , 0.27767307, 0.32320103,\n",
       "       0.28165755, 0.26535615, 0.26891905, 0.27814457, 0.2763625 ,\n",
       "       0.26738244, 0.26875925, 0.27686056, 0.28878   , 0.27732652,\n",
       "       0.2708918 , 0.26639575, 0.265743  , 0.282827  , 0.27970847,\n",
       "       0.28552952, 0.2947831 , 0.32298794, 0.31931365, 0.33186913,\n",
       "       0.31850198, 0.28874028, 0.3339286 , 0.30151045, 0.31455892,\n",
       "       0.31084147, 0.2984382 , 0.2918489 , 0.2939905 , 0.30005863,\n",
       "       0.3139967 , 0.30245784, 0.31477714, 0.34582996, 0.3301814 ,\n",
       "       0.3423245 , 0.3175536 , 0.34171113, 0.33005536, 0.3127469 ,\n",
       "       0.3049376 , 0.32868156, 0.32464084, 0.3335297 , 0.3219642 ,\n",
       "       0.32662752, 0.31712708, 0.3467386 , 0.34018454, 0.33712134,\n",
       "       0.3311872 , 0.34201407, 0.29641837, 0.26911178, 0.2769654 ,\n",
       "       0.28038314, 0.27426612, 0.28324047, 0.28458557, 0.2987228 ,\n",
       "       0.27940765, 0.28494418, 0.3021253 , 0.283587  , 0.28768077,\n",
       "       0.27357316, 0.31052655, 0.31527787, 0.2793668 , 0.26749545,\n",
       "       0.24247304, 0.26358312, 0.2803116 , 0.28855026, 0.27619508,\n",
       "       0.28331855, 0.28508505, 0.27553603, 0.2963844 , 0.30950454,\n",
       "       0.2640604 , 0.27906314, 0.316985  , 0.29514283, 0.30712903,\n",
       "       0.29202542, 0.28377202, 0.29374072, 0.29105648, 0.31472027,\n",
       "       0.3127938 , 0.31705692, 0.32538122, 0.28549314, 0.29116756,\n",
       "       0.29881838, 0.313289  , 0.333265  , 0.27057678, 0.2643486 ,\n",
       "       0.28149804, 0.2797728 , 0.28194422, 0.29262465, 0.29135492,\n",
       "       0.29603767, 0.2815648 , 0.27501038, 0.287285  , 0.29136908,\n",
       "       0.27946514, 0.29733205, 0.26851723, 0.28503066, 0.28727666,\n",
       "       0.30124608, 0.26654792, 0.2867788 , 0.2957158 , 0.29935902,\n",
       "       0.30041748, 0.29878953, 0.30590513, 0.28704202, 0.2856045 ,\n",
       "       0.28600398, 0.29444692, 0.28202438, 0.30270112, 0.28534168,\n",
       "       0.2699143 , 0.30266163, 0.32415098, 0.3029157 , 0.27840635,\n",
       "       0.27600244, 0.28455687, 0.2906787 , 0.2848053 , 0.28356427,\n",
       "       0.3026908 , 0.31390312, 0.26354897, 0.28148896, 0.29305214,\n",
       "       0.30576232, 0.29814112, 0.3138515 , 0.2704262 , 0.25603813,\n",
       "       0.28591412, 0.27369413, 0.26290566, 0.25981614, 0.27201793,\n",
       "       0.28692502, 0.2758112 , 0.2756995 , 0.2767661 , 0.29836488,\n",
       "       0.2870174 , 0.2806286 , 0.2898473 , 0.28419888, 0.29176173,\n",
       "       0.29330474, 0.2755862 , 0.27072123, 0.28717   , 0.31309122],\n",
       "      dtype=float32)"
      ]
     },
     "execution_count": 43,
     "metadata": {},
     "output_type": "execute_result"
    }
   ],
   "source": [
    "pa"
   ]
  },
  {
   "cell_type": "code",
   "execution_count": 53,
   "metadata": {},
   "outputs": [],
   "source": [
    "with open('sa_array.json', 'w') as f:\n",
    "    json.dump(sa.tolist(), f)\n"
   ]
  },
  {
   "cell_type": "code",
   "execution_count": 45,
   "metadata": {},
   "outputs": [
    {
     "name": "stdout",
     "output_type": "stream",
     "text": [
      "(455,)\n",
      "(6821,)\n"
     ]
    },
    {
     "data": {
      "image/png": "[encoded data removed]",
      "text/plain": [
       "<Figure size 640x480 with 1 Axes>"
      ]
     },
     "metadata": {},
     "output_type": "display_data"
    }
   ],
   "source": [
    "import matplotlib.pyplot as plt\n",
    "import numpy as np\n",
    "\n",
    "print(pa.shape)\n",
    "print(sa.shape)\n",
    "\n",
    "# Plot the values on a line graph\n",
    "plt.plot(pa)\n",
    "\n",
    "# Add labels and title\n",
    "plt.xlabel('Index')\n",
    "plt.ylabel('Value')\n",
    "plt.title('Line Graph of Values from 1 to 0')\n",
    "\n",
    "\n",
    "# Display the plot\n",
    "plt.show()"
   ]
  }
 ],
 "metadata": {
  "kernelspec": {
   "display_name": "base",
   "language": "python",
   "name": "python3"
  },
  "language_info": {
   "codemirror_mode": {
    "name": "ipython",
    "version": 3
   },
   "file_extension": ".py",
   "mimetype": "text/x-python",
   "name": "python",
   "nbconvert_exporter": "python",
   "pygments_lexer": "ipython3",
   "version": "3.11.4"
  },
  "orig_nbformat": 4
 },
 "nbformat": 4,
 "nbformat_minor": 2
}
